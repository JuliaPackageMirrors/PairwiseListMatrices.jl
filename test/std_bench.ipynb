{
 "cells": [
  {
   "cell_type": "code",
   "execution_count": 1,
   "metadata": {
    "collapsed": false
   },
   "outputs": [
    {
     "name": "stderr",
     "output_type": "stream",
     "text": [
      "WARNING: UUID.jl is deprecated, please use Base.Random.uuid1(), Base.Random.uuid4(), and Base.Random.UUID instead.\n"
     ]
    }
   ],
   "source": [
    "using PairwiseListMatrices\n",
    "using Benchmarks\n",
    "using Base.Test"
   ]
  },
  {
   "cell_type": "code",
   "execution_count": 2,
   "metadata": {
    "collapsed": false
   },
   "outputs": [],
   "source": [
    "la = PairwiseListMatrix(collect(1:Int(100*99*0.5)));"
   ]
  },
  {
   "cell_type": "code",
   "execution_count": 3,
   "metadata": {
    "collapsed": false
   },
   "outputs": [],
   "source": [
    "ll = PairwiseListMatrix{Int64,false}[ones(la) for i in 1:100 ];"
   ]
  },
  {
   "cell_type": "code",
   "execution_count": 4,
   "metadata": {
    "collapsed": false
   },
   "outputs": [],
   "source": [
    "l = ones(Int, 100, 100, 100);"
   ]
  },
  {
   "cell_type": "code",
   "execution_count": 5,
   "metadata": {
    "collapsed": false
   },
   "outputs": [],
   "source": [
    "@test all(std(l, 3) .== std(ll))"
   ]
  },
  {
   "cell_type": "code",
   "execution_count": 6,
   "metadata": {
    "collapsed": false
   },
   "outputs": [
    {
     "data": {
      "text/plain": [
       "================ Benchmark Results ========================\n",
       "     Time per evaluation: 6.58 ms [6.46 ms, 6.71 ms]\n",
       "Proportion of time in GC: 0.00% [0.00%, 0.00%]\n",
       "        Memory allocated: 157.34 kb\n",
       "   Number of allocations: 21 allocations\n",
       "       Number of samples: 100\n",
       "   Number of evaluations: 100\n",
       " Time spent benchmarking: 0.73 s\n"
      ]
     },
     "execution_count": 6,
     "metadata": {},
     "output_type": "execute_result"
    }
   ],
   "source": [
    "@benchmark std(l,3)"
   ]
  },
  {
   "cell_type": "code",
   "execution_count": 7,
   "metadata": {
    "collapsed": false
   },
   "outputs": [
    {
     "data": {
      "text/plain": [
       "================ Benchmark Results ========================\n",
       "     Time per evaluation: 4.20 ms [3.93 ms, 4.47 ms]\n",
       "Proportion of time in GC: 0.50% [0.00%, 3.49%]\n",
       "        Memory allocated: 200.52 kb\n",
       "   Number of allocations: 53 allocations\n",
       "       Number of samples: 100\n",
       "   Number of evaluations: 100\n",
       " Time spent benchmarking: 0.44 s\n"
      ]
     },
     "execution_count": 7,
     "metadata": {},
     "output_type": "execute_result"
    }
   ],
   "source": [
    "@benchmark std(ll)"
   ]
  }
 ],
 "metadata": {
  "kernelspec": {
   "display_name": "Julia 0.4.0-pre",
   "language": "julia",
   "name": "julia-0.4"
  },
  "language_info": {
   "file_extension": ".jl",
   "mimetype": "application/julia",
   "name": "julia",
   "version": "0.4.0"
  }
 },
 "nbformat": 4,
 "nbformat_minor": 0
}
